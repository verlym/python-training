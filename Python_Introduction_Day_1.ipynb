{
  "nbformat": 4,
  "nbformat_minor": 0,
  "metadata": {
    "colab": {
      "provenance": [],
      "gpuType": "T4"
    },
    "kernelspec": {
      "name": "python3",
      "display_name": "Python 3"
    },
    "language_info": {
      "name": "python"
    },
    "accelerator": "GPU"
  },
  "cells": [
    {
      "cell_type": "code",
      "execution_count": 1,
      "metadata": {
        "id": "fCAVhr9VURM5",
        "colab": {
          "base_uri": "https://localhost:8080/"
        },
        "outputId": "097f222a-3e27-4275-a9b9-1b714cc490c6"
      },
      "outputs": [
        {
          "output_type": "stream",
          "name": "stdout",
          "text": [
            "Hello Verly\n"
          ]
        }
      ],
      "source": [
        "print(\"Hello Verly\")"
      ]
    },
    {
      "cell_type": "code",
      "source": [
        "name = input(\"What's your name?\")\n",
        "print(\"Hello\", name)"
      ],
      "metadata": {
        "colab": {
          "base_uri": "https://localhost:8080/"
        },
        "id": "O2j8xp0o1Rz6",
        "outputId": "bec471ec-449b-46ef-b702-db09d134dc12"
      },
      "execution_count": 3,
      "outputs": [
        {
          "output_type": "stream",
          "name": "stdout",
          "text": [
            "What's your name?verly\n",
            "Hello verly\n"
          ]
        }
      ]
    },
    {
      "cell_type": "code",
      "source": [
        "# string name = input(.....)\n",
        "\n",
        "#nama = \"verly\" ----> karakter/string\n",
        "#nama = 789\n",
        "#age = 26 -----> number/integer"
      ],
      "metadata": {
        "id": "EXQCqskk33RY"
      },
      "execution_count": null,
      "outputs": []
    },
    {
      "cell_type": "code",
      "source": [
        "number = 3\n",
        "print(type(number))\n",
        "number = \"3\"\n",
        "print(type(number))\n",
        "number = int(\"3\")\n",
        "print(type(number))"
      ],
      "metadata": {
        "colab": {
          "base_uri": "https://localhost:8080/"
        },
        "id": "TDIr5zZJ41qp",
        "outputId": "f1747d4b-f01b-46c9-b10e-18b5de8e6489"
      },
      "execution_count": 5,
      "outputs": [
        {
          "output_type": "stream",
          "name": "stdout",
          "text": [
            "<class 'int'>\n",
            "<class 'str'>\n",
            "<class 'int'>\n"
          ]
        }
      ]
    },
    {
      "cell_type": "markdown",
      "source": [
        "**Study 1**\n",
        "\n",
        "Buat program untuk mengecek peserta pemilih pemilu,\n",
        "\n",
        "jika umur lebih dari 17 tahun dan bawa ktp, maka boleh masuk. selain itu dilarang masuk"
      ],
      "metadata": {
        "id": "AVZOgIYE7D6D"
      }
    },
    {
      "cell_type": "code",
      "source": [
        "#input = umur & ktp\n",
        "#proses = cek kelayakan --> bawa ktp (ya/tidak) dan umur > 17\n",
        "#output = boleh masuk / tidak\n",
        "\n",
        "#Pseudo code / flowchart\n",
        "#1. input nama dan ktp (y/n)\n",
        "#2. if ktp = yes and umur > 17 then\n",
        "#   \"boleh\"\n",
        "#   else\n",
        "#   \"tidak boleh\"\n",
        "#3. print hasil cek\n",
        "\n",
        "#program\n",
        "#1. input nama dan ktp (y/n)\n",
        "umur = input(\"Umur: ? \") #input() always str, need conversion to int\n",
        "ktp = input(\"Bawa KTP ? \") #Y/N\n",
        "#2\n",
        "if (int(umur) > 17) and (ktp == \"Y\"):\n",
        "  #3\n",
        "  print(\"boleh\")\n",
        "else:\n",
        "  #3\n",
        "  print(\"dilarang\")\n"
      ],
      "metadata": {
        "colab": {
          "base_uri": "https://localhost:8080/"
        },
        "id": "TD2BSKG57DII",
        "outputId": "9efdefaf-8803-4e1c-fc1f-4b60c7b8672f"
      },
      "execution_count": 10,
      "outputs": [
        {
          "output_type": "stream",
          "name": "stdout",
          "text": [
            "Umur: ? 18\n",
            "Bawa KTP ? Y\n",
            "boleh\n"
          ]
        }
      ]
    },
    {
      "cell_type": "code",
      "source": [
        "def grading(grade):\n",
        "  if grade >= 90 and grade <= 100:\n",
        "    print(\"A\")\n",
        "  elif grade >80 and grade < 90:\n",
        "    print(\"B\")\n",
        "  else:\n",
        "    print(\"C\")"
      ],
      "metadata": {
        "id": "HF_PPjhB7H7B"
      },
      "execution_count": 17,
      "outputs": []
    },
    {
      "cell_type": "code",
      "source": [
        "#before\n",
        "grade = int(input(\"Nilai: ? \"))\n",
        "if grade >= 90 and grade <= 100:\n",
        "    print(\"A\")\n",
        "elif grade >80 and grade < 90:\n",
        "    print(\"B\")\n",
        "else:\n",
        "    print(\"C\")"
      ],
      "metadata": {
        "id": "SeJyUApF7YE4"
      },
      "execution_count": null,
      "outputs": []
    },
    {
      "cell_type": "code",
      "source": [
        "#after\n",
        "grade = int(input(\"Nilai: ? \"))\n",
        "grading(grade)\n",
        "\n",
        "# if karyawan bukan dari KP then dilarang\n",
        "#if staff != kp then forbidden"
      ],
      "metadata": {
        "colab": {
          "base_uri": "https://localhost:8080/"
        },
        "id": "vxBSlarECgdZ",
        "outputId": "acc357bd-4e50-4593-ce39-e196fb477b0f"
      },
      "execution_count": 18,
      "outputs": [
        {
          "output_type": "stream",
          "name": "stdout",
          "text": [
            "Nilai: ? 88\n",
            "B\n"
          ]
        }
      ]
    },
    {
      "cell_type": "code",
      "source": [
        "#list = kumpulan data lebih dari 1\n",
        "#kumpulan nilai ujian = [93, 89, 75, 100, 80]\n",
        "#jumlah data = 5\n",
        "#jumlah index = data - 1\n",
        "list_nilai = [93, 89, 75, 100, 80]\n",
        "print(list_nilai[1])\n",
        "\n",
        "#program tampilkan nilai ujian di mading sekolah\n",
        "for idx in range(5):\n",
        "  grading(list_nilai[idx])\n"
      ],
      "metadata": {
        "colab": {
          "base_uri": "https://localhost:8080/"
        },
        "id": "5GwkovFYHCjW",
        "outputId": "83fd8dc5-ce99-42ef-ed29-c0fbc42726c2"
      },
      "execution_count": 20,
      "outputs": [
        {
          "output_type": "stream",
          "name": "stdout",
          "text": [
            "89\n",
            "A\n",
            "B\n",
            "C\n",
            "A\n",
            "C\n"
          ]
        }
      ]
    },
    {
      "cell_type": "markdown",
      "source": [
        "**Study 2**\n",
        "Buat sebuah sistem yang berfungsi untuk menampilkan seberapa jauh jarak (meter) yang ditempuh setiap 1 jam selama 3 jam\n",
        "\n",
        "rumus jarak = jarak (km) * 1000\n",
        "\n",
        "output:\n",
        "Jam ke 1 = 1200m\n",
        "Jam ke 2 = 900m\n",
        "Jam ke 3 = 100m"
      ],
      "metadata": {
        "id": "ux9KkWjLK1xS"
      }
    },
    {
      "cell_type": "code",
      "source": [
        "#input = jarak\n",
        "#proses = jarak * 1000\n",
        "#output: Jam ke 1 = 1200m, Jam ke 2 = 900m, Jam ke 3 = 100m\n",
        "\n",
        "#Pseudo\n",
        "#1. loop jam (3)\n",
        "#2. input jarak (km)\n",
        "#3. hitung/konversi jarak (km to meter)\n",
        "\n",
        "#program\n",
        "\n",
        "list_jarak = [1.2, 1.45, 2.3, 1.2, 1.45, 2.3, 1.2, 1.45, 2.3, 1.2, 1.45, 2.3]\n",
        "jml_data  = len(list_jarak) #len() ambil jumlah data secara otomatis\n",
        "print(jml_data)\n",
        "for idx in range(jml_data):\n",
        "  jarak = list_jarak[idx] * 1000\n",
        "  print(\"Jarak: \", jarak, \"meter\")"
      ],
      "metadata": {
        "colab": {
          "base_uri": "https://localhost:8080/"
        },
        "id": "NDFWFwmeKrfG",
        "outputId": "a5ffba90-1b75-41eb-ef34-a686277be0c4"
      },
      "execution_count": 30,
      "outputs": [
        {
          "output_type": "stream",
          "name": "stdout",
          "text": [
            "12\n",
            "Jarak:  1200.0 meter\n",
            "Jarak:  1450.0 meter\n",
            "Jarak:  2300.0 meter\n",
            "Jarak:  1200.0 meter\n",
            "Jarak:  1450.0 meter\n",
            "Jarak:  2300.0 meter\n",
            "Jarak:  1200.0 meter\n",
            "Jarak:  1450.0 meter\n",
            "Jarak:  2300.0 meter\n",
            "Jarak:  1200.0 meter\n",
            "Jarak:  1450.0 meter\n",
            "Jarak:  2300.0 meter\n"
          ]
        }
      ]
    },
    {
      "cell_type": "markdown",
      "source": [
        "# Exercise"
      ],
      "metadata": {
        "id": "7ouWRorfgVhI"
      }
    },
    {
      "cell_type": "code",
      "source": [
        "# Exercise 1\n",
        "\n",
        "#apakah outputnya true atau false\n",
        "\n",
        "print( 1 <= 1) #true\n",
        "print( 1 != 1) #false 1 == 1\n",
        "print( 1 != 2) #true 1\n",
        "print( \"good\" != \"bad\") #true\n",
        "print( \"good\" != \"good\") #false --> ==\n",
        "print( \"good\" != \"good \") #true\n",
        "print(123 == \"123\") #false"
      ],
      "metadata": {
        "colab": {
          "base_uri": "https://localhost:8080/"
        },
        "id": "BsWEAAbAgcde",
        "outputId": "83861e26-3660-4671-ceb7-7657f2c97d27"
      },
      "execution_count": 1,
      "outputs": [
        {
          "output_type": "stream",
          "name": "stdout",
          "text": [
            "True\n",
            "False\n",
            "True\n",
            "True\n",
            "False\n",
            "True\n",
            "False\n"
          ]
        }
      ]
    },
    {
      "cell_type": "code",
      "source": [
        "#input\n",
        "number1 = 40\n",
        "number2 = 30\n",
        "hasil_kali = number1 * number2\n",
        "if hasil_kali <= 1000:\n",
        "  print(\"hasil_kali: \", hasil_kali)\n",
        "else:\n",
        "  hasil_jumlah = number1 + number2\n",
        "  print(\"hasil_jumlah: \", hasil_jumlah)"
      ],
      "metadata": {
        "colab": {
          "base_uri": "https://localhost:8080/"
        },
        "id": "ucUvBFVLiwyk",
        "outputId": "9952290c-7ddd-4721-f91e-40dcc28608df"
      },
      "execution_count": 3,
      "outputs": [
        {
          "output_type": "stream",
          "name": "stdout",
          "text": [
            "hasil_jumlah:  70\n"
          ]
        }
      ]
    },
    {
      "cell_type": "code",
      "source": [
        "#input\n",
        "number = 10\n",
        "for idx in range(number):\n",
        "  if idx == 0:\n",
        "    print(\"Now: \", 0, \"Past: \",\n",
        "        0, \"sum: \", 0)\n",
        "  else:\n",
        "    sum = idx + idx-1\n",
        "    print(\"Now: \", idx, \"Past: \",\n",
        "          idx-1, \"sum: \", sum)"
      ],
      "metadata": {
        "colab": {
          "base_uri": "https://localhost:8080/"
        },
        "id": "T1ePCal0o0Zm",
        "outputId": "84b68fd8-1093-4c4f-d4e7-6dd4c8624a71"
      },
      "execution_count": 7,
      "outputs": [
        {
          "output_type": "stream",
          "name": "stdout",
          "text": [
            "Now:  0 Past:  0 sum:  0\n",
            "Now:  1 Past:  0 sum:  1\n",
            "Now:  2 Past:  1 sum:  3\n",
            "Now:  3 Past:  2 sum:  5\n",
            "Now:  4 Past:  3 sum:  7\n",
            "Now:  5 Past:  4 sum:  9\n",
            "Now:  6 Past:  5 sum:  11\n",
            "Now:  7 Past:  6 sum:  13\n",
            "Now:  8 Past:  7 sum:  15\n",
            "Now:  9 Past:  8 sum:  17\n"
          ]
        }
      ]
    },
    {
      "cell_type": "code",
      "source": [
        "#len() = 20row\n",
        "str = \"pynative\"\n",
        "# str = [\"p\",\"y\",\"n\",\"a\",\"t\",\"i\",\"v\",\"e\"]\n",
        "# idx=  [ 0,  1,  2,  3,  4,  5,  6,  7]\n",
        "print(\"length data \", len(str))\n",
        "#mampir ke tiap karakter\n",
        "for idx in range(len(str)):\n",
        "  if idx % 2 == 0: #genap\n",
        "    print(str[idx])"
      ],
      "metadata": {
        "colab": {
          "base_uri": "https://localhost:8080/"
        },
        "id": "NE_DXJ3SuBoi",
        "outputId": "a8d2f269-6384-4551-ab1c-53bbca670f05"
      },
      "execution_count": 14,
      "outputs": [
        {
          "output_type": "stream",
          "name": "stdout",
          "text": [
            "length data  8\n",
            "p\n",
            "n\n",
            "t\n",
            "v\n"
          ]
        }
      ]
    },
    {
      "cell_type": "code",
      "source": [
        "print(14 / 2) #division (float)\n",
        "print(14 // 2) #division (int)\n",
        "print(14 % 2) #modulus"
      ],
      "metadata": {
        "colab": {
          "base_uri": "https://localhost:8080/"
        },
        "id": "Mja6sHL01vNb",
        "outputId": "e48ff911-2670-42f4-d2c0-452e7a359ae4"
      },
      "execution_count": 13,
      "outputs": [
        {
          "output_type": "stream",
          "name": "stdout",
          "text": [
            "7.0\n",
            "7\n",
            "0\n"
          ]
        }
      ]
    },
    {
      "cell_type": "code",
      "source": [
        "#before\n",
        "sum1 = 3 + 2 #duplicate\n",
        "sum2 = 4 + 6 #duplicate\n",
        "sum3 = 5 + 5 #duplicate\n",
        "print(sum1, \" \", sum2, \" \", sum3)\n",
        "\n",
        "#=======================\n",
        "#after\n",
        "\n",
        "def add(num1, num2):\n",
        "  sum = num1 + num2\n",
        "  return sum\n",
        "\n",
        "\n",
        "sum1 = add(3,2)\n",
        "sum2 = add(4,6)\n",
        "sum3 = add(5,5)\n",
        "print(sum1, \" \", sum2, \" \", sum3)\n"
      ],
      "metadata": {
        "colab": {
          "base_uri": "https://localhost:8080/"
        },
        "id": "wM11z3CU48HV",
        "outputId": "9d533600-3d89-4414-a8ea-c4179f259162"
      },
      "execution_count": 23,
      "outputs": [
        {
          "output_type": "stream",
          "name": "stdout",
          "text": [
            "5   10   10\n",
            "5   10   10\n"
          ]
        }
      ]
    },
    {
      "cell_type": "code",
      "source": [
        "def hitung_harga(area):\n",
        "  harga = area * 1000\n",
        "  return harga\n",
        "\n",
        "def area(p, l):\n",
        "  a = p * l\n",
        "  return a\n",
        "\n",
        "#hitung harga daerah 1\n",
        "area1 = area(5, 7)\n",
        "harga1 = hitung_harga(area1)\n",
        "\n",
        "#hitung harga daerah 3\n",
        "area2 = area(6,6)\n",
        "harga2 = hitung_harga(area2)\n",
        "\n",
        "#hitung harga daerah 3\n",
        "area3 = area(9, 7)\n",
        "harga3 = hitung_harga(area3)\n",
        "\n",
        "print( area1, area2, area3 )\n",
        "print( harga1, harga2, harga3 )"
      ],
      "metadata": {
        "colab": {
          "base_uri": "https://localhost:8080/"
        },
        "id": "XV0OrP7B_nBX",
        "outputId": "61964910-034b-4f68-add6-85226867a77d"
      },
      "execution_count": 27,
      "outputs": [
        {
          "output_type": "stream",
          "name": "stdout",
          "text": [
            "35 36 63\n",
            "35000 36000 63000\n"
          ]
        }
      ]
    },
    {
      "cell_type": "code",
      "source": [
        "number_x = [75, 20, 30, 40, 30]\n",
        "#index = data ke-n - 1\n",
        "num1 = number_x[0]\n",
        "num2 = number_x[4]\n",
        "if num1 == num2:\n",
        "  print (\"True\")\n",
        "else:\n",
        "  print(\"False\")"
      ],
      "metadata": {
        "colab": {
          "base_uri": "https://localhost:8080/"
        },
        "id": "PKvLfNVUA5Fy",
        "outputId": "690fe425-3b40-4215-d9b5-ec5a1b2112a0"
      },
      "execution_count": 30,
      "outputs": [
        {
          "output_type": "stream",
          "name": "stdout",
          "text": [
            "False\n"
          ]
        }
      ]
    }
  ]
}